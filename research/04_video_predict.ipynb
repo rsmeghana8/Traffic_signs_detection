{
 "cells": [
  {
   "cell_type": "code",
   "execution_count": 1,
   "metadata": {},
   "outputs": [
    {
     "data": {
      "text/plain": [
       "'/home/megh/AI/Projects/Traffic_signs_detection'"
      ]
     },
     "execution_count": 1,
     "metadata": {},
     "output_type": "execute_result"
    }
   ],
   "source": [
    "import os\n",
    "os.chdir(\"../\")\n",
    "%pwd"
   ]
  },
  {
   "cell_type": "code",
   "execution_count": 2,
   "metadata": {},
   "outputs": [],
   "source": [
    "from ultralytics import YOLO"
   ]
  },
  {
   "cell_type": "code",
   "execution_count": 6,
   "metadata": {},
   "outputs": [],
   "source": [
    "from dataclasses import dataclass\n",
    "from pathlib import Path\n",
    "\n",
    "@dataclass(frozen=True)\n",
    "class PredictConfig:\n",
    "    video_path: Path\n",
    "    best_model: Path\n",
    "    conf: float\n",
    "    iou: float\n"
   ]
  },
  {
   "cell_type": "code",
   "execution_count": 12,
   "metadata": {},
   "outputs": [],
   "source": [
    "from src.utils.common import read_yaml, create_directories\n",
    "from src.constants import *\n",
    "from box import ConfigBox\n",
    "\n",
    "class ConfigurationManager:\n",
    "    def __init__(\n",
    "        self,\n",
    "        config_filepath = CONFIG_FILE_PATH,\n",
    "        params_filepath= PARAMS_FILE_PATH,\n",
    "        ) :\n",
    "                 \n",
    "        self.config = read_yaml(config_filepath),\n",
    "        self.params = read_yaml(params_filepath),\n",
    "\n",
    "        self.config= ConfigBox(self.config[0]) # configbox is returning tuble so to avoid it we are again applying configbox to the dictionary at index 0\n",
    "        self.params= ConfigBox(self.params[0])\n",
    "\n",
    "        #create_directories([self.config.artifacts_root])\n",
    "        #print(self.params)\n",
    "\n",
    "    def get_predict_config(self)-> PredictConfig:\n",
    "\n",
    "        config_eval = self.config.evaluation\n",
    "        config = self.config.prediction\n",
    "\n",
    "\n",
    "        predict_config = PredictConfig(\n",
    "\n",
    "            video_path= config.video_path,\n",
    "            best_model = Path(config_eval.runs)/ config_eval.exp_name / config_eval.best ,\n",
    "            conf = self.params.CONF,\n",
    "            iou = self.params.IOU\n",
    "\n",
    "        )\n",
    "        return predict_config"
   ]
  },
  {
   "cell_type": "code",
   "execution_count": null,
   "metadata": {},
   "outputs": [],
   "source": []
  },
  {
   "cell_type": "code",
   "execution_count": 54,
   "metadata": {},
   "outputs": [],
   "source": [
    "class Predict:\n",
    "    def __init__(self, config: PredictConfig):\n",
    "        self.config = config\n",
    "        \n",
    "    def pred(self):\n",
    "        best_model = YOLO(self.config.best_model)\n",
    "        best_model.predict(source= self.config.video_path,\n",
    "                           conf = self.config.conf,\n",
    "                           iou= self.config.iou,\n",
    "                           save= True)"
   ]
  },
  {
   "cell_type": "code",
   "execution_count": 50,
   "metadata": {},
   "outputs": [
    {
     "name": "stdout",
     "output_type": "stream",
     "text": [
      "[2023-09-14 15:18:56,640: INFO: common: yaml fileconfig.yamlloaded Successfully]\n",
      "[2023-09-14 15:18:56,642: INFO: common: yaml fileparams.yamlloaded Successfully]\n",
      "PredictConfig(video_path='Raw_data/traffic-sign-to-test.mp4', best_model=PosixPath('runs/detect/Fine tuning the whole model without freezing any layers/weights/best.pt'), conf=0.5, iou=0.7)\n"
     ]
    }
   ],
   "source": [
    "#config = ConfigurationManager()\n",
    "#predict_config = config.get_predict_config()\n",
    "#print(predict_config)\n",
    "#model = Predict(config=predict_config)"
   ]
  },
  {
   "cell_type": "code",
   "execution_count": 52,
   "metadata": {},
   "outputs": [
    {
     "name": "stderr",
     "output_type": "stream",
     "text": [
      "\n",
      "\n",
      "WARNING ⚠️ inference results will accumulate in RAM unless `stream=True` is passed, causing potential out-of-memory\n",
      "errors for large sources or long-running streams and videos. See https://docs.ultralytics.com/modes/predict/ for help.\n",
      "\n",
      "Example:\n",
      "    results = model(source=..., stream=True)  # generator of Results objects\n",
      "    for r in results:\n",
      "        boxes = r.boxes  # Boxes object for bbox outputs\n",
      "        masks = r.masks  # Masks object for segment masks outputs\n",
      "        probs = r.probs  # Class probabilities for classification outputs\n",
      "\n",
      "video 1/1 (1/56) /home/megh/AI/Projects/Traffic_signs_detection/Raw_data/traffic-sign-to-test.mp4: 384x640 (no detections), 5.2ms\n",
      "video 1/1 (2/56) /home/megh/AI/Projects/Traffic_signs_detection/Raw_data/traffic-sign-to-test.mp4: 384x640 (no detections), 6.6ms\n",
      "video 1/1 (3/56) /home/megh/AI/Projects/Traffic_signs_detection/Raw_data/traffic-sign-to-test.mp4: 384x640 (no detections), 7.4ms\n",
      "video 1/1 (4/56) /home/megh/AI/Projects/Traffic_signs_detection/Raw_data/traffic-sign-to-test.mp4: 384x640 (no detections), 4.7ms\n",
      "video 1/1 (5/56) /home/megh/AI/Projects/Traffic_signs_detection/Raw_data/traffic-sign-to-test.mp4: 384x640 (no detections), 4.8ms\n",
      "video 1/1 (6/56) /home/megh/AI/Projects/Traffic_signs_detection/Raw_data/traffic-sign-to-test.mp4: 384x640 (no detections), 4.6ms\n",
      "video 1/1 (7/56) /home/megh/AI/Projects/Traffic_signs_detection/Raw_data/traffic-sign-to-test.mp4: 384x640 (no detections), 4.5ms\n",
      "video 1/1 (8/56) /home/megh/AI/Projects/Traffic_signs_detection/Raw_data/traffic-sign-to-test.mp4: 384x640 (no detections), 4.5ms\n",
      "video 1/1 (9/56) /home/megh/AI/Projects/Traffic_signs_detection/Raw_data/traffic-sign-to-test.mp4: 384x640 (no detections), 5.0ms\n",
      "video 1/1 (10/56) /home/megh/AI/Projects/Traffic_signs_detection/Raw_data/traffic-sign-to-test.mp4: 384x640 (no detections), 4.5ms\n",
      "video 1/1 (11/56) /home/megh/AI/Projects/Traffic_signs_detection/Raw_data/traffic-sign-to-test.mp4: 384x640 (no detections), 4.6ms\n",
      "video 1/1 (12/56) /home/megh/AI/Projects/Traffic_signs_detection/Raw_data/traffic-sign-to-test.mp4: 384x640 (no detections), 5.4ms\n",
      "video 1/1 (13/56) /home/megh/AI/Projects/Traffic_signs_detection/Raw_data/traffic-sign-to-test.mp4: 384x640 (no detections), 4.9ms\n",
      "video 1/1 (14/56) /home/megh/AI/Projects/Traffic_signs_detection/Raw_data/traffic-sign-to-test.mp4: 384x640 (no detections), 5.4ms\n",
      "video 1/1 (15/56) /home/megh/AI/Projects/Traffic_signs_detection/Raw_data/traffic-sign-to-test.mp4: 384x640 (no detections), 4.8ms\n",
      "video 1/1 (16/56) /home/megh/AI/Projects/Traffic_signs_detection/Raw_data/traffic-sign-to-test.mp4: 384x640 (no detections), 4.6ms\n",
      "video 1/1 (17/56) /home/megh/AI/Projects/Traffic_signs_detection/Raw_data/traffic-sign-to-test.mp4: 384x640 (no detections), 5.1ms\n",
      "video 1/1 (18/56) /home/megh/AI/Projects/Traffic_signs_detection/Raw_data/traffic-sign-to-test.mp4: 384x640 (no detections), 4.7ms\n",
      "video 1/1 (19/56) /home/megh/AI/Projects/Traffic_signs_detection/Raw_data/traffic-sign-to-test.mp4: 384x640 (no detections), 4.9ms\n",
      "video 1/1 (20/56) /home/megh/AI/Projects/Traffic_signs_detection/Raw_data/traffic-sign-to-test.mp4: 384x640 (no detections), 5.3ms\n",
      "video 1/1 (21/56) /home/megh/AI/Projects/Traffic_signs_detection/Raw_data/traffic-sign-to-test.mp4: 384x640 (no detections), 5.0ms\n",
      "video 1/1 (22/56) /home/megh/AI/Projects/Traffic_signs_detection/Raw_data/traffic-sign-to-test.mp4: 384x640 (no detections), 4.7ms\n",
      "video 1/1 (23/56) /home/megh/AI/Projects/Traffic_signs_detection/Raw_data/traffic-sign-to-test.mp4: 384x640 (no detections), 4.7ms\n",
      "video 1/1 (24/56) /home/megh/AI/Projects/Traffic_signs_detection/Raw_data/traffic-sign-to-test.mp4: 384x640 (no detections), 4.4ms\n",
      "video 1/1 (25/56) /home/megh/AI/Projects/Traffic_signs_detection/Raw_data/traffic-sign-to-test.mp4: 384x640 (no detections), 4.4ms\n",
      "video 1/1 (26/56) /home/megh/AI/Projects/Traffic_signs_detection/Raw_data/traffic-sign-to-test.mp4: 384x640 (no detections), 5.3ms\n",
      "video 1/1 (27/56) /home/megh/AI/Projects/Traffic_signs_detection/Raw_data/traffic-sign-to-test.mp4: 384x640 (no detections), 4.4ms\n",
      "video 1/1 (28/56) /home/megh/AI/Projects/Traffic_signs_detection/Raw_data/traffic-sign-to-test.mp4: 384x640 (no detections), 4.9ms\n",
      "video 1/1 (29/56) /home/megh/AI/Projects/Traffic_signs_detection/Raw_data/traffic-sign-to-test.mp4: 384x640 (no detections), 4.8ms\n",
      "video 1/1 (30/56) /home/megh/AI/Projects/Traffic_signs_detection/Raw_data/traffic-sign-to-test.mp4: 384x640 (no detections), 4.4ms\n",
      "video 1/1 (31/56) /home/megh/AI/Projects/Traffic_signs_detection/Raw_data/traffic-sign-to-test.mp4: 384x640 (no detections), 4.5ms\n",
      "video 1/1 (32/56) /home/megh/AI/Projects/Traffic_signs_detection/Raw_data/traffic-sign-to-test.mp4: 384x640 (no detections), 4.6ms\n",
      "video 1/1 (33/56) /home/megh/AI/Projects/Traffic_signs_detection/Raw_data/traffic-sign-to-test.mp4: 384x640 (no detections), 4.5ms\n",
      "video 1/1 (34/56) /home/megh/AI/Projects/Traffic_signs_detection/Raw_data/traffic-sign-to-test.mp4: 384x640 (no detections), 4.4ms\n",
      "video 1/1 (35/56) /home/megh/AI/Projects/Traffic_signs_detection/Raw_data/traffic-sign-to-test.mp4: 384x640 (no detections), 4.4ms\n",
      "video 1/1 (36/56) /home/megh/AI/Projects/Traffic_signs_detection/Raw_data/traffic-sign-to-test.mp4: 384x640 (no detections), 4.4ms\n",
      "video 1/1 (37/56) /home/megh/AI/Projects/Traffic_signs_detection/Raw_data/traffic-sign-to-test.mp4: 384x640 (no detections), 4.8ms\n",
      "video 1/1 (38/56) /home/megh/AI/Projects/Traffic_signs_detection/Raw_data/traffic-sign-to-test.mp4: 384x640 (no detections), 4.8ms\n",
      "video 1/1 (39/56) /home/megh/AI/Projects/Traffic_signs_detection/Raw_data/traffic-sign-to-test.mp4: 384x640 (no detections), 4.5ms\n",
      "video 1/1 (40/56) /home/megh/AI/Projects/Traffic_signs_detection/Raw_data/traffic-sign-to-test.mp4: 384x640 (no detections), 8.0ms\n",
      "video 1/1 (41/56) /home/megh/AI/Projects/Traffic_signs_detection/Raw_data/traffic-sign-to-test.mp4: 384x640 (no detections), 5.6ms\n",
      "video 1/1 (42/56) /home/megh/AI/Projects/Traffic_signs_detection/Raw_data/traffic-sign-to-test.mp4: 384x640 (no detections), 5.4ms\n",
      "video 1/1 (43/56) /home/megh/AI/Projects/Traffic_signs_detection/Raw_data/traffic-sign-to-test.mp4: 384x640 (no detections), 6.4ms\n",
      "video 1/1 (44/56) /home/megh/AI/Projects/Traffic_signs_detection/Raw_data/traffic-sign-to-test.mp4: 384x640 (no detections), 4.9ms\n",
      "video 1/1 (45/56) /home/megh/AI/Projects/Traffic_signs_detection/Raw_data/traffic-sign-to-test.mp4: 384x640 (no detections), 4.5ms\n",
      "video 1/1 (46/56) /home/megh/AI/Projects/Traffic_signs_detection/Raw_data/traffic-sign-to-test.mp4: 384x640 (no detections), 5.2ms\n",
      "video 1/1 (47/56) /home/megh/AI/Projects/Traffic_signs_detection/Raw_data/traffic-sign-to-test.mp4: 384x640 (no detections), 5.1ms\n",
      "video 1/1 (48/56) /home/megh/AI/Projects/Traffic_signs_detection/Raw_data/traffic-sign-to-test.mp4: 384x640 (no detections), 4.7ms\n",
      "video 1/1 (49/56) /home/megh/AI/Projects/Traffic_signs_detection/Raw_data/traffic-sign-to-test.mp4: 384x640 (no detections), 4.8ms\n",
      "video 1/1 (50/56) /home/megh/AI/Projects/Traffic_signs_detection/Raw_data/traffic-sign-to-test.mp4: 384x640 (no detections), 5.2ms\n",
      "video 1/1 (51/56) /home/megh/AI/Projects/Traffic_signs_detection/Raw_data/traffic-sign-to-test.mp4: 384x640 (no detections), 4.5ms\n",
      "video 1/1 (52/56) /home/megh/AI/Projects/Traffic_signs_detection/Raw_data/traffic-sign-to-test.mp4: 384x640 (no detections), 4.8ms\n",
      "video 1/1 (53/56) /home/megh/AI/Projects/Traffic_signs_detection/Raw_data/traffic-sign-to-test.mp4: 384x640 (no detections), 5.1ms\n",
      "video 1/1 (54/56) /home/megh/AI/Projects/Traffic_signs_detection/Raw_data/traffic-sign-to-test.mp4: 384x640 (no detections), 4.9ms\n",
      "video 1/1 (55/56) /home/megh/AI/Projects/Traffic_signs_detection/Raw_data/traffic-sign-to-test.mp4: 384x640 (no detections), 4.9ms\n",
      "video 1/1 (56/56) /home/megh/AI/Projects/Traffic_signs_detection/Raw_data/traffic-sign-to-test.mp4: 384x640 (no detections), 4.7ms\n",
      "Speed: 1.6ms preprocess, 5.0ms inference, 0.6ms postprocess per image at shape (1, 3, 384, 640)\n",
      "Results saved to \u001b[1m/home/megh/AI/Projects/Traffic_signs_detection/runs/detect/predict2\u001b[0m\n"
     ]
    }
   ],
   "source": [
    "#model.pred()"
   ]
  },
  {
   "cell_type": "code",
   "execution_count": 55,
   "metadata": {},
   "outputs": [
    {
     "name": "stdout",
     "output_type": "stream",
     "text": [
      "[2023-09-14 15:21:43,680: INFO: common: yaml fileconfig.yamlloaded Successfully]\n",
      "[2023-09-14 15:21:43,681: INFO: common: yaml fileparams.yamlloaded Successfully]\n"
     ]
    },
    {
     "name": "stderr",
     "output_type": "stream",
     "text": [
      "\n",
      "\n",
      "WARNING ⚠️ inference results will accumulate in RAM unless `stream=True` is passed, causing potential out-of-memory\n",
      "errors for large sources or long-running streams and videos. See https://docs.ultralytics.com/modes/predict/ for help.\n",
      "\n",
      "Example:\n",
      "    results = model(source=..., stream=True)  # generator of Results objects\n",
      "    for r in results:\n",
      "        boxes = r.boxes  # Boxes object for bbox outputs\n",
      "        masks = r.masks  # Masks object for segment masks outputs\n",
      "        probs = r.probs  # Class probabilities for classification outputs\n",
      "\n",
      "video 1/1 (1/56) /home/megh/AI/Projects/Traffic_signs_detection/Raw_data/traffic-sign-to-test.mp4: 384x640 (no detections), 7.4ms\n",
      "video 1/1 (2/56) /home/megh/AI/Projects/Traffic_signs_detection/Raw_data/traffic-sign-to-test.mp4: 384x640 (no detections), 6.0ms\n",
      "video 1/1 (3/56) /home/megh/AI/Projects/Traffic_signs_detection/Raw_data/traffic-sign-to-test.mp4: 384x640 (no detections), 7.0ms\n",
      "video 1/1 (4/56) /home/megh/AI/Projects/Traffic_signs_detection/Raw_data/traffic-sign-to-test.mp4: 384x640 (no detections), 6.3ms\n",
      "video 1/1 (5/56) /home/megh/AI/Projects/Traffic_signs_detection/Raw_data/traffic-sign-to-test.mp4: 384x640 (no detections), 6.0ms\n",
      "video 1/1 (6/56) /home/megh/AI/Projects/Traffic_signs_detection/Raw_data/traffic-sign-to-test.mp4: 384x640 (no detections), 6.0ms\n",
      "video 1/1 (7/56) /home/megh/AI/Projects/Traffic_signs_detection/Raw_data/traffic-sign-to-test.mp4: 384x640 (no detections), 5.8ms\n",
      "video 1/1 (8/56) /home/megh/AI/Projects/Traffic_signs_detection/Raw_data/traffic-sign-to-test.mp4: 384x640 (no detections), 5.7ms\n",
      "video 1/1 (9/56) /home/megh/AI/Projects/Traffic_signs_detection/Raw_data/traffic-sign-to-test.mp4: 384x640 (no detections), 5.6ms\n",
      "video 1/1 (10/56) /home/megh/AI/Projects/Traffic_signs_detection/Raw_data/traffic-sign-to-test.mp4: 384x640 (no detections), 6.2ms\n",
      "video 1/1 (11/56) /home/megh/AI/Projects/Traffic_signs_detection/Raw_data/traffic-sign-to-test.mp4: 384x640 (no detections), 5.6ms\n",
      "video 1/1 (12/56) /home/megh/AI/Projects/Traffic_signs_detection/Raw_data/traffic-sign-to-test.mp4: 384x640 (no detections), 4.4ms\n",
      "video 1/1 (13/56) /home/megh/AI/Projects/Traffic_signs_detection/Raw_data/traffic-sign-to-test.mp4: 384x640 (no detections), 5.0ms\n",
      "video 1/1 (14/56) /home/megh/AI/Projects/Traffic_signs_detection/Raw_data/traffic-sign-to-test.mp4: 384x640 (no detections), 4.6ms\n",
      "video 1/1 (15/56) /home/megh/AI/Projects/Traffic_signs_detection/Raw_data/traffic-sign-to-test.mp4: 384x640 (no detections), 4.7ms\n",
      "video 1/1 (16/56) /home/megh/AI/Projects/Traffic_signs_detection/Raw_data/traffic-sign-to-test.mp4: 384x640 (no detections), 4.7ms\n",
      "video 1/1 (17/56) /home/megh/AI/Projects/Traffic_signs_detection/Raw_data/traffic-sign-to-test.mp4: 384x640 (no detections), 4.7ms\n",
      "video 1/1 (18/56) /home/megh/AI/Projects/Traffic_signs_detection/Raw_data/traffic-sign-to-test.mp4: 384x640 (no detections), 4.7ms\n",
      "video 1/1 (19/56) /home/megh/AI/Projects/Traffic_signs_detection/Raw_data/traffic-sign-to-test.mp4: 384x640 (no detections), 5.0ms\n",
      "video 1/1 (20/56) /home/megh/AI/Projects/Traffic_signs_detection/Raw_data/traffic-sign-to-test.mp4: 384x640 (no detections), 4.4ms\n",
      "video 1/1 (21/56) /home/megh/AI/Projects/Traffic_signs_detection/Raw_data/traffic-sign-to-test.mp4: 384x640 (no detections), 4.8ms\n",
      "video 1/1 (22/56) /home/megh/AI/Projects/Traffic_signs_detection/Raw_data/traffic-sign-to-test.mp4: 384x640 (no detections), 4.4ms\n",
      "video 1/1 (23/56) /home/megh/AI/Projects/Traffic_signs_detection/Raw_data/traffic-sign-to-test.mp4: 384x640 (no detections), 4.5ms\n",
      "video 1/1 (24/56) /home/megh/AI/Projects/Traffic_signs_detection/Raw_data/traffic-sign-to-test.mp4: 384x640 (no detections), 4.5ms\n",
      "video 1/1 (25/56) /home/megh/AI/Projects/Traffic_signs_detection/Raw_data/traffic-sign-to-test.mp4: 384x640 (no detections), 4.4ms\n",
      "video 1/1 (26/56) /home/megh/AI/Projects/Traffic_signs_detection/Raw_data/traffic-sign-to-test.mp4: 384x640 (no detections), 4.5ms\n",
      "video 1/1 (27/56) /home/megh/AI/Projects/Traffic_signs_detection/Raw_data/traffic-sign-to-test.mp4: 384x640 (no detections), 5.2ms\n",
      "video 1/1 (28/56) /home/megh/AI/Projects/Traffic_signs_detection/Raw_data/traffic-sign-to-test.mp4: 384x640 (no detections), 4.8ms\n",
      "video 1/1 (29/56) /home/megh/AI/Projects/Traffic_signs_detection/Raw_data/traffic-sign-to-test.mp4: 384x640 (no detections), 4.7ms\n",
      "video 1/1 (30/56) /home/megh/AI/Projects/Traffic_signs_detection/Raw_data/traffic-sign-to-test.mp4: 384x640 (no detections), 4.6ms\n",
      "video 1/1 (31/56) /home/megh/AI/Projects/Traffic_signs_detection/Raw_data/traffic-sign-to-test.mp4: 384x640 (no detections), 5.7ms\n",
      "video 1/1 (32/56) /home/megh/AI/Projects/Traffic_signs_detection/Raw_data/traffic-sign-to-test.mp4: 384x640 (no detections), 4.8ms\n",
      "video 1/1 (33/56) /home/megh/AI/Projects/Traffic_signs_detection/Raw_data/traffic-sign-to-test.mp4: 384x640 (no detections), 5.0ms\n",
      "video 1/1 (34/56) /home/megh/AI/Projects/Traffic_signs_detection/Raw_data/traffic-sign-to-test.mp4: 384x640 (no detections), 5.2ms\n",
      "video 1/1 (35/56) /home/megh/AI/Projects/Traffic_signs_detection/Raw_data/traffic-sign-to-test.mp4: 384x640 (no detections), 5.3ms\n",
      "video 1/1 (36/56) /home/megh/AI/Projects/Traffic_signs_detection/Raw_data/traffic-sign-to-test.mp4: 384x640 (no detections), 5.4ms\n",
      "video 1/1 (37/56) /home/megh/AI/Projects/Traffic_signs_detection/Raw_data/traffic-sign-to-test.mp4: 384x640 (no detections), 6.0ms\n",
      "video 1/1 (38/56) /home/megh/AI/Projects/Traffic_signs_detection/Raw_data/traffic-sign-to-test.mp4: 384x640 (no detections), 5.1ms\n",
      "video 1/1 (39/56) /home/megh/AI/Projects/Traffic_signs_detection/Raw_data/traffic-sign-to-test.mp4: 384x640 (no detections), 6.5ms\n",
      "video 1/1 (40/56) /home/megh/AI/Projects/Traffic_signs_detection/Raw_data/traffic-sign-to-test.mp4: 384x640 (no detections), 6.5ms\n",
      "video 1/1 (41/56) /home/megh/AI/Projects/Traffic_signs_detection/Raw_data/traffic-sign-to-test.mp4: 384x640 (no detections), 6.4ms\n",
      "video 1/1 (42/56) /home/megh/AI/Projects/Traffic_signs_detection/Raw_data/traffic-sign-to-test.mp4: 384x640 (no detections), 6.4ms\n",
      "video 1/1 (43/56) /home/megh/AI/Projects/Traffic_signs_detection/Raw_data/traffic-sign-to-test.mp4: 384x640 (no detections), 5.3ms\n",
      "video 1/1 (44/56) /home/megh/AI/Projects/Traffic_signs_detection/Raw_data/traffic-sign-to-test.mp4: 384x640 (no detections), 4.6ms\n",
      "video 1/1 (45/56) /home/megh/AI/Projects/Traffic_signs_detection/Raw_data/traffic-sign-to-test.mp4: 384x640 (no detections), 5.1ms\n",
      "video 1/1 (46/56) /home/megh/AI/Projects/Traffic_signs_detection/Raw_data/traffic-sign-to-test.mp4: 384x640 (no detections), 4.8ms\n",
      "video 1/1 (47/56) /home/megh/AI/Projects/Traffic_signs_detection/Raw_data/traffic-sign-to-test.mp4: 384x640 (no detections), 5.6ms\n",
      "video 1/1 (48/56) /home/megh/AI/Projects/Traffic_signs_detection/Raw_data/traffic-sign-to-test.mp4: 384x640 (no detections), 5.5ms\n",
      "video 1/1 (49/56) /home/megh/AI/Projects/Traffic_signs_detection/Raw_data/traffic-sign-to-test.mp4: 384x640 (no detections), 5.5ms\n",
      "video 1/1 (50/56) /home/megh/AI/Projects/Traffic_signs_detection/Raw_data/traffic-sign-to-test.mp4: 384x640 (no detections), 4.4ms\n",
      "video 1/1 (51/56) /home/megh/AI/Projects/Traffic_signs_detection/Raw_data/traffic-sign-to-test.mp4: 384x640 (no detections), 4.6ms\n",
      "video 1/1 (52/56) /home/megh/AI/Projects/Traffic_signs_detection/Raw_data/traffic-sign-to-test.mp4: 384x640 (no detections), 5.1ms\n",
      "video 1/1 (53/56) /home/megh/AI/Projects/Traffic_signs_detection/Raw_data/traffic-sign-to-test.mp4: 384x640 (no detections), 4.7ms\n",
      "video 1/1 (54/56) /home/megh/AI/Projects/Traffic_signs_detection/Raw_data/traffic-sign-to-test.mp4: 384x640 (no detections), 5.0ms\n",
      "video 1/1 (55/56) /home/megh/AI/Projects/Traffic_signs_detection/Raw_data/traffic-sign-to-test.mp4: 384x640 (no detections), 4.4ms\n",
      "video 1/1 (56/56) /home/megh/AI/Projects/Traffic_signs_detection/Raw_data/traffic-sign-to-test.mp4: 384x640 (no detections), 4.6ms\n",
      "Speed: 1.5ms preprocess, 5.3ms inference, 0.6ms postprocess per image at shape (1, 3, 384, 640)\n",
      "Results saved to \u001b[1m/home/megh/AI/Projects/Traffic_signs_detection/runs/detect/predict3\u001b[0m\n"
     ]
    }
   ],
   "source": [
    "try:\n",
    "    config = ConfigurationManager()\n",
    "    predict_config = config.get_predict_config()\n",
    "    model = Predict(config=predict_config)\n",
    "    model.pred()\n",
    "\n",
    "except Exception as e:\n",
    "    raise e"
   ]
  },
  {
   "cell_type": "code",
   "execution_count": 56,
   "metadata": {},
   "outputs": [],
   "source": [
    "#best_model = YOLO(\"runs/detect/Fine tuning the whole model without freezing any layers/weights/best.pt\")\n",
    "\n",
    "#best_model.predict('test.jpg')"
   ]
  },
  {
   "cell_type": "code",
   "execution_count": null,
   "metadata": {},
   "outputs": [],
   "source": []
  },
  {
   "cell_type": "code",
   "execution_count": 53,
   "metadata": {},
   "outputs": [
    {
     "data": {
      "text/plain": [
       "<generator object BasePredictor.stream_inference at 0x7f3bf4147640>"
      ]
     },
     "execution_count": 53,
     "metadata": {},
     "output_type": "execute_result"
    }
   ],
   "source": [
    "#best_model.predict('Raw_data/traffic-sign-to-test.mp4', save = True, stream = True)"
   ]
  },
  {
   "cell_type": "code",
   "execution_count": null,
   "metadata": {},
   "outputs": [],
   "source": []
  }
 ],
 "metadata": {
  "kernelspec": {
   "display_name": "yolov8",
   "language": "python",
   "name": "python3"
  },
  "language_info": {
   "codemirror_mode": {
    "name": "ipython",
    "version": 3
   },
   "file_extension": ".py",
   "mimetype": "text/x-python",
   "name": "python",
   "nbconvert_exporter": "python",
   "pygments_lexer": "ipython3",
   "version": "3.11.5"
  },
  "orig_nbformat": 4
 },
 "nbformat": 4,
 "nbformat_minor": 2
}
