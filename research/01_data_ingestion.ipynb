{
 "cells": [
  {
   "cell_type": "code",
   "execution_count": null,
   "metadata": {},
   "outputs": [],
   "source": []
  },
  {
   "cell_type": "code",
   "execution_count": 1,
   "metadata": {},
   "outputs": [],
   "source": [
    "import os\n",
    "import random\n",
    "import matplotlib.pyplot as plt"
   ]
  },
  {
   "cell_type": "code",
   "execution_count": 2,
   "metadata": {},
   "outputs": [
    {
     "data": {
      "text/plain": [
       "'/home/megh/AI/Projects/Traffic_signs_detection'"
      ]
     },
     "execution_count": 2,
     "metadata": {},
     "output_type": "execute_result"
    }
   ],
   "source": [
    "os.chdir(\"../\")\n",
    "%pwd"
   ]
  },
  {
   "cell_type": "code",
   "execution_count": 3,
   "metadata": {},
   "outputs": [],
   "source": [
    "from dataclasses import dataclass \n",
    "from pathlib import Path\n",
    "\n",
    "@dataclass(frozen=True)\n",
    "class DataIngestionConfig:\n",
    "    root_dir:Path\n",
    "    source_dir:Path\n",
    "    train_images: Path\n",
    "    test_images: Path\n",
    "    train_labels: Path\n",
    "    test_labels: Path\n",
    "    val_images: Path\n",
    "    val_labels: Path\n",
    "    train_test_split: float\n",
    "    train_val_split : float"
   ]
  },
  {
   "cell_type": "code",
   "execution_count": null,
   "metadata": {},
   "outputs": [],
   "source": []
  },
  {
   "cell_type": "code",
   "execution_count": 4,
   "metadata": {},
   "outputs": [],
   "source": [
    "from src.constants import *\n",
    "from src.utils.common import read_yaml,create_directories"
   ]
  },
  {
   "cell_type": "code",
   "execution_count": 5,
   "metadata": {},
   "outputs": [],
   "source": [
    "from random import choice\n",
    "import shutil"
   ]
  },
  {
   "cell_type": "code",
   "execution_count": 6,
   "metadata": {},
   "outputs": [],
   "source": [
    "class ConfigurationManager:\n",
    "    def __init__(\n",
    "            self,\n",
    "            config_filepath= CONFIG_FILE_PATH,\n",
    "            params_filepath= PARAMS_FILE_PATH):\n",
    "        \n",
    "        self.config = read_yaml(config_filepath)\n",
    "        self.params = read_yaml(params_filepath)\n",
    "        \n",
    "        create_directories([self.config.artifacts_root])\n",
    "\n",
    "    def get_data_ingestion_config(self)-> DataIngestionConfig:\n",
    "            config = self.config.data_ingestions\n",
    "            params = self.params\n",
    "            \n",
    "            create_directories([config.root_dir])\n",
    "\n",
    "            data_ingestion_config = DataIngestionConfig(\n",
    "                root_dir= config.root_dir,\n",
    "                    source_dir= config.source_dir,\n",
    "                    train_images= config.train_images,\n",
    "                    test_images= config.test_images,\n",
    "                    val_images= config.val_images,\n",
    "                    train_labels= config.train_labels,\n",
    "                    test_labels= config.test_labels,\n",
    "                    val_labels= config.val_labels,\n",
    "                    train_test_split = params.TRAIN_TEST_SPLIT,\n",
    "                    train_val_split= params.TRAIN_VAL_SPLIT\n",
    "            )\n",
    "\n",
    "            return data_ingestion_config\n"
   ]
  },
  {
   "cell_type": "code",
   "execution_count": 10,
   "metadata": {},
   "outputs": [],
   "source": [
    "\n",
    "imgs = []\n",
    "labels = []\n",
    "for (dirname, dirs, files) in os.walk(\"./Raw_data/ts/ts\"):\n",
    "    for filename in files:\n",
    "        if filename.endswith(\".txt\"):\n",
    "            labels.append(filename)\n",
    "        else:\n",
    "            imgs.append(filename)"
   ]
  },
  {
   "cell_type": "code",
   "execution_count": 11,
   "metadata": {},
   "outputs": [
    {
     "name": "stdout",
     "output_type": "stream",
     "text": [
      "741 741\n"
     ]
    }
   ],
   "source": [
    "print(len(imgs),len(labels))"
   ]
  },
  {
   "cell_type": "code",
   "execution_count": 21,
   "metadata": {},
   "outputs": [],
   "source": [
    "train_images= Path(\"artifacts/data_ingestion/images/train\")\n",
    "train_labels=Path(\"artifacts/data_ingestion/labels/train\")\n",
    "source_dir = Path(\"./Raw_data/ts/ts\")"
   ]
  },
  {
   "cell_type": "code",
   "execution_count": 17,
   "metadata": {},
   "outputs": [
    {
     "name": "stdout",
     "output_type": "stream",
     "text": [
      "[2023-09-13 16:52:08,410: INFO: common: created directory at:artifacts/data_ingestion/images/train]\n"
     ]
    }
   ],
   "source": [
    "if not os.path.isdir(train_images):\n",
    "    create_directories([train_images])\n",
    "if not os.path.isdir(train_labels):\n",
    "    create_directories([train_labels])"
   ]
  },
  {
   "cell_type": "code",
   "execution_count": 18,
   "metadata": {},
   "outputs": [],
   "source": [
    "TRAIN_TEST_SPLIT= 0.1\n",
    "TRAIN_VAL_SPLIT=0.2"
   ]
  },
  {
   "cell_type": "code",
   "execution_count": 19,
   "metadata": {},
   "outputs": [
    {
     "name": "stdout",
     "output_type": "stream",
     "text": [
      "741 74 148 519\n"
     ]
    }
   ],
   "source": [
    "\n",
    "test_count = int(TRAIN_TEST_SPLIT * len(imgs))\n",
    "val_count = int(TRAIN_VAL_SPLIT * len(imgs))\n",
    "train_count = int(len(imgs) - test_count - val_count)\n",
    "print(len(imgs),test_count, val_count, train_count)"
   ]
  },
  {
   "cell_type": "code",
   "execution_count": 22,
   "metadata": {},
   "outputs": [
    {
     "name": "stdout",
     "output_type": "stream",
     "text": [
      "222\n"
     ]
    }
   ],
   "source": [
    "for i in range(train_count):\n",
    "            file_jpg = choice(imgs)\n",
    "            file_txt= file_jpg[:-4]+\".txt\"\n",
    "\n",
    "            shutil.copy(os.path.join(source_dir,file_jpg), os.path.join(train_images,file_jpg))\n",
    "            shutil.copy(os.path.join(source_dir,file_txt), os.path.join(train_labels,file_txt))\n",
    "\n",
    "            imgs.remove(file_jpg)\n",
    "            labels.remove(file_txt)\n",
    "print(len(imgs))\n"
   ]
  },
  {
   "cell_type": "code",
   "execution_count": 25,
   "metadata": {},
   "outputs": [],
   "source": [
    "class DataIngestion:\n",
    "    def __init__(self, config : DataIngestionConfig):\n",
    "        self.config=config\n",
    "\n",
    "\n",
    "    def prepare_data(self):\n",
    "\n",
    "        imgs = []\n",
    "        labels = []\n",
    "\n",
    "        for (dirname, dirs, files) in os.walk(self.config.source_dir):\n",
    "            for filename in files:\n",
    "                if filename.endswith(\".txt\"):\n",
    "                    labels.append(filename)\n",
    "                else:\n",
    "                    imgs.append(filename)\n",
    "\n",
    "\n",
    "        #Creating images and label directories for Train, val and test\n",
    "        if not os.path.isdir(self.config.train_images):\n",
    "            create_directories([self.config.train_images])\n",
    "\n",
    "        if not os.path.isdir(self.config.train_labels):\n",
    "            create_directories([self.config.train_labels])\n",
    "\n",
    "        if not os.path.isdir(self.config.test_images):\n",
    "            create_directories([self.config.test_images])\n",
    "\n",
    "        if not os.path.isdir(self.config.test_labels):\n",
    "            create_directories([self.config.test_labels])\n",
    "\n",
    "\n",
    "        if not os.path.isdir(self.config.val_images):\n",
    "            create_directories([self.config.val_images])\n",
    "\n",
    "        if not os.path.isdir(self.config.val_labels):\n",
    "            create_directories([self.config.val_labels])\n",
    "\n",
    "        test_count = int(self.config.train_test_split * len(imgs))\n",
    "        val_count = int(self.config.train_val_split * len(imgs))\n",
    "        train_count = int(len(imgs) - test_count - val_count)\n",
    "        print(len(imgs),test_count, val_count, train_count)\n",
    "\n",
    "\n",
    "        for i in range(train_count):\n",
    "            file_jpg = choice(imgs)\n",
    "            file_txt= file_jpg[:-4]+\".txt\"\n",
    "\n",
    "            shutil.copy(os.path.join(self.config.source_dir,file_jpg), os.path.join(self.config.train_images,file_jpg))\n",
    "            shutil.copy(os.path.join(self.config.source_dir,file_txt), os.path.join(self.config.train_labels,file_txt))\n",
    "\n",
    "            imgs.remove(file_jpg)\n",
    "            labels.remove(file_txt)\n",
    "        print(len(imgs))\n",
    "\n",
    "\n",
    "        for i in range(val_count):\n",
    "            file_jpg = choice(imgs)\n",
    "            file_txt= file_jpg[:-4]+\".txt\"\n",
    "\n",
    "            shutil.copy(os.path.join(self.config.source_dir,file_jpg), os.path.join(self.config.val_images,file_jpg))\n",
    "            shutil.copy(os.path.join(self.config.source_dir,file_txt), os.path.join(self.config.val_labels,file_txt))\n",
    "\n",
    "            imgs.remove(file_jpg)\n",
    "            labels.remove(file_txt)\n",
    "\n",
    "        print(len(imgs))\n",
    "\n",
    "        for i in range(test_count):\n",
    "            file_jpg = choice(imgs)\n",
    "            file_txt= file_jpg[:-4]+\".txt\"\n",
    "\n",
    "            shutil.copy(os.path.join(self.config.source_dir,file_jpg), os.path.join(self.config.test_images,file_jpg))\n",
    "            shutil.copy(os.path.join(self.config.source_dir,file_txt), os.path.join(self.config.test_labels,file_txt))\n",
    "\n",
    "            imgs.remove(file_jpg)\n",
    "            labels.remove(file_txt)\n",
    "\n",
    "        \n",
    "\n",
    "        \n"
   ]
  },
  {
   "cell_type": "code",
   "execution_count": 26,
   "metadata": {},
   "outputs": [
    {
     "name": "stdout",
     "output_type": "stream",
     "text": [
      "[2023-09-13 16:58:30,211: INFO: common: yaml fileconfig.yamlloaded Successfully]\n",
      "[2023-09-13 16:58:30,212: INFO: common: yaml fileparams.yamlloaded Successfully]\n",
      "[2023-09-13 16:58:30,213: INFO: common: created directory at:artifacts]\n",
      "[2023-09-13 16:58:30,213: INFO: common: created directory at:artifacts/data_ingestion]\n",
      "[2023-09-13 16:58:30,215: INFO: common: created directory at:artifacts/data_ingestion/images/train]\n",
      "[2023-09-13 16:58:30,216: INFO: common: created directory at:artifacts/data_ingestion/labels/train]\n",
      "[2023-09-13 16:58:30,216: INFO: common: created directory at:artifacts/data_ingestion/images/test]\n",
      "[2023-09-13 16:58:30,217: INFO: common: created directory at:artifacts/data_ingestion/labels/test]\n",
      "[2023-09-13 16:58:30,217: INFO: common: created directory at:artifacts/data_ingestion/images/val]\n",
      "[2023-09-13 16:58:30,217: INFO: common: created directory at:artifacts/data_ingestion/labels/val]\n",
      "741 74 148 519\n",
      "222\n",
      "74\n"
     ]
    }
   ],
   "source": [
    "try:\n",
    "    config = ConfigurationManager()\n",
    "    data_ingestion_config= config.get_data_ingestion_config()\n",
    "    data_ingestion= DataIngestion(config = data_ingestion_config)\n",
    "    data_ingestion.prepare_data()\n",
    "\n",
    "except Exception as e:\n",
    "    raise e"
   ]
  },
  {
   "cell_type": "code",
   "execution_count": 29,
   "metadata": {},
   "outputs": [
    {
     "data": {
      "text/plain": [
       "741"
      ]
     },
     "execution_count": 29,
     "metadata": {},
     "output_type": "execute_result"
    }
   ],
   "source": []
  },
  {
   "cell_type": "code",
   "execution_count": null,
   "metadata": {},
   "outputs": [],
   "source": []
  }
 ],
 "metadata": {
  "kernelspec": {
   "display_name": "yolov8",
   "language": "python",
   "name": "python3"
  },
  "language_info": {
   "codemirror_mode": {
    "name": "ipython",
    "version": 3
   },
   "file_extension": ".py",
   "mimetype": "text/x-python",
   "name": "python",
   "nbconvert_exporter": "python",
   "pygments_lexer": "ipython3",
   "version": "3.11.5"
  },
  "orig_nbformat": 4
 },
 "nbformat": 4,
 "nbformat_minor": 2
}
