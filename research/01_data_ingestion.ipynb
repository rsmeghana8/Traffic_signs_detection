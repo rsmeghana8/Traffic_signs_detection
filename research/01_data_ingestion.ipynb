{
 "cells": [
  {
   "cell_type": "code",
   "execution_count": null,
   "metadata": {},
   "outputs": [],
   "source": []
  },
  {
   "cell_type": "code",
   "execution_count": 1,
   "metadata": {},
   "outputs": [],
   "source": [
    "import os\n",
    "import random\n",
    "import matplotlib.pyplot as plt"
   ]
  },
  {
   "cell_type": "code",
   "execution_count": 2,
   "metadata": {},
   "outputs": [
    {
     "data": {
      "text/plain": [
       "'/home/megh/AI/Projects/Traffic_signs_detection'"
      ]
     },
     "execution_count": 2,
     "metadata": {},
     "output_type": "execute_result"
    }
   ],
   "source": [
    "os.chdir(\"../\")\n",
    "%pwd"
   ]
  },
  {
   "cell_type": "code",
   "execution_count": 3,
   "metadata": {},
   "outputs": [],
   "source": [
    "from dataclasses import dataclass \n",
    "from pathlib import Path\n",
    "\n",
    "@dataclass(frozen=True)\n",
    "class DataIngestionConfig:\n",
    "    root_dir:Path\n",
    "    source_dir:Path\n",
    "    train_images: Path\n",
    "    test_images: Path\n",
    "    train_labels: Path\n",
    "    test_labels: Path\n",
    "    train_test_split: float\n",
    "    train_val_split : float"
   ]
  },
  {
   "cell_type": "code",
   "execution_count": 4,
   "metadata": {},
   "outputs": [],
   "source": [
    "from src.constants import *"
   ]
  },
  {
   "cell_type": "code",
   "execution_count": 5,
   "metadata": {},
   "outputs": [],
   "source": [
    "from src.utils.common import read_yaml,create_directories"
   ]
  },
  {
   "cell_type": "code",
   "execution_count": 6,
   "metadata": {},
   "outputs": [],
   "source": [
    "from random import choice\n",
    "import shutil"
   ]
  },
  {
   "cell_type": "code",
   "execution_count": 7,
   "metadata": {},
   "outputs": [],
   "source": [
    "class ConfigurationManager:\n",
    "    def __init__(\n",
    "            self,\n",
    "            config_filepath= CONFIG_FILE_PATH,\n",
    "            params_filepath= PARAMS_FILE_PATH):\n",
    "        \n",
    "        self.config = read_yaml(config_filepath)\n",
    "        self.params = read_yaml(params_filepath)\n",
    "        \n",
    "        create_directories([self.config.artifacts_root])\n",
    "\n",
    "    def get_data_ingestion_config(self)-> DataIngestionConfig:\n",
    "            config = self.config.data_ingestions\n",
    "            params = self.params\n",
    "            \n",
    "            create_directories([config.root_dir])\n",
    "\n",
    "            data_ingestion_config = DataIngestionConfig(\n",
    "                root_dir= config.root_dir,\n",
    "                    source_dir= config.source_dir,\n",
    "                    train_images= config.train_images,\n",
    "                    test_images= config.test_images,\n",
    "                    val_images= config.val_images,\n",
    "                    train_labels= config.train_labels,\n",
    "                    test_labels= config.test_labels,\n",
    "                    val_labels= config.val_labels,\n",
    "                    train_test_split = params.TRAIN_TEST_SPLIT,\n",
    "                    train_val_split= params.TRAIN_VAL_SPLIT\n",
    "            )\n",
    "\n",
    "            return data_ingestion_config\n"
   ]
  },
  {
   "cell_type": "code",
   "execution_count": 8,
   "metadata": {},
   "outputs": [],
   "source": [
    "class DataIngestion:\n",
    "    def __init__(self, config : DataIngestionConfig):\n",
    "        self.config=config\n",
    "\n",
    "\n",
    "    def prepare_data(self):\n",
    "\n",
    "        imgs = []\n",
    "        labels = []\n",
    "\n",
    "        for (dirname, dirs, files) in os.walk(self.config.source_dir):\n",
    "            for filename in files:\n",
    "                if filename.endswith(\".txt\"):\n",
    "                    labels.append(filename)\n",
    "                else:\n",
    "                    imgs.append(filename)\n",
    "\n",
    "\n",
    "        #Creating images and label directories for Train, val and test\n",
    "        if not os.path.isdir(self.config.train_images):\n",
    "            create_directories([self.config.train_images])\n",
    "\n",
    "        if not os.path.isdir(self.config.train_labels):\n",
    "            create_directories([self.config.train_labels])\n",
    "\n",
    "        if not os.path.isdir(self.config.test_images):\n",
    "            create_directories([self.config.test_images])\n",
    "\n",
    "        if not os.path.isdir(self.config.test_labels):\n",
    "            create_directories([self.config.test_labels])\n",
    "\n",
    "\n",
    "        if not os.path.isdir(self.config.val_images):\n",
    "            create_directories([self.config.val_images])\n",
    "\n",
    "        if not os.path.isdir(self.config.val_labels):\n",
    "            create_directories([self.config.val_labels])\n",
    "\n",
    "        test_count = self.config.train_test_split * len(imgs)\n",
    "        val_count = self.config.train_val_split * len(imgs)\n",
    "        train_count = len(imgs) - test_count - val_count\n",
    "        print(test_count, val_count, train_count)\n",
    "\n",
    "\n",
    "        for i in range(train_count):\n",
    "            file_jpg = choice(imgs)\n",
    "            file_txt= file_jpg[:-4]+\".txt\"\n",
    "\n",
    "            shutil.copy(os.path.join(self.config.source_dir,file_jpg), os.path.join(self.config.train_images,file_jpg))\n",
    "            shutil.copy(os.path.join(self.config.source_dir,file_txt), os.path.join(self.config.train_labels,file_txt))\n",
    "\n",
    "            imgs.remove(file_jpg)\n",
    "            labels.remove(file_txt)\n",
    "\n",
    "\n",
    "        for i in range(val_count):\n",
    "            file_jpg = choice(imgs)\n",
    "            file_txt= file_jpg[:-4]+\".txt\"\n",
    "\n",
    "            shutil.copy(os.path.join(self.config.source_dir,file_jpg), os.path.join(self.config.val_images,file_jpg))\n",
    "            shutil.copy(os.path.join(self.config.source_dir,file_txt), os.path.join(self.config.val_labels,file_txt))\n",
    "\n",
    "            imgs.remove(file_jpg)\n",
    "            labels.remove(file_txt)\n",
    "\n",
    "\n",
    "        for i in range(test_count):\n",
    "            file_jpg = choice(imgs)\n",
    "            file_txt= file_jpg[:-4]+\".txt\"\n",
    "\n",
    "            shutil.copy(os.path.join(self.config.source_dir,file_jpg), os.path.join(self.config.test_images,file_jpg))\n",
    "            shutil.copy(os.path.join(self.config.source_dir,file_txt), os.path.join(self.config.test_labels,file_txt))\n",
    "\n",
    "            imgs.remove(file_jpg)\n",
    "            labels.remove(file_txt)\n",
    "\n",
    "        \n"
   ]
  },
  {
   "cell_type": "code",
   "execution_count": 12,
   "metadata": {},
   "outputs": [
    {
     "name": "stdout",
     "output_type": "stream",
     "text": [
      "[2023-09-12 21:07:41,642: INFO: common: yaml fileconfig.yamlloaded Successfully]\n",
      "[2023-09-12 21:07:41,644: INFO: common: yaml fileparams.yamlloaded Successfully]\n",
      "[2023-09-12 21:07:41,644: INFO: common: created directory at:artifacts]\n"
     ]
    },
    {
     "ename": "BoxKeyError",
     "evalue": "\"'ConfigBox' object has no attribute 'data_ingestion'\"",
     "output_type": "error",
     "traceback": [
      "\u001b[0;31m---------------------------------------------------------------------------\u001b[0m",
      "\u001b[0;31mKeyError\u001b[0m                                  Traceback (most recent call last)",
      "File \u001b[0;32m~/AI/Projects/Traffic_signs_detection/yolov8/lib/python3.11/site-packages/box/box.py:503\u001b[0m, in \u001b[0;36mBox.__getitem__\u001b[0;34m(self, item, _ignore_default)\u001b[0m\n\u001b[1;32m    502\u001b[0m \u001b[39mtry\u001b[39;00m:\n\u001b[0;32m--> 503\u001b[0m     \u001b[39mreturn\u001b[39;00m \u001b[39msuper\u001b[39;49m()\u001b[39m.\u001b[39;49m\u001b[39m__getitem__\u001b[39;49m(item)\n\u001b[1;32m    504\u001b[0m \u001b[39mexcept\u001b[39;00m \u001b[39mKeyError\u001b[39;00m \u001b[39mas\u001b[39;00m err:\n",
      "\u001b[0;31mKeyError\u001b[0m: 'data_ingestion'",
      "\nThe above exception was the direct cause of the following exception:\n",
      "\u001b[0;31mBoxKeyError\u001b[0m                               Traceback (most recent call last)",
      "File \u001b[0;32m~/AI/Projects/Traffic_signs_detection/yolov8/lib/python3.11/site-packages/box/box.py:536\u001b[0m, in \u001b[0;36mBox.__getattr__\u001b[0;34m(self, item)\u001b[0m\n\u001b[1;32m    535\u001b[0m \u001b[39mtry\u001b[39;00m:\n\u001b[0;32m--> 536\u001b[0m     value \u001b[39m=\u001b[39m \u001b[39mself\u001b[39;49m\u001b[39m.\u001b[39;49m\u001b[39m__getitem__\u001b[39;49m(item, _ignore_default\u001b[39m=\u001b[39;49m\u001b[39mTrue\u001b[39;49;00m)\n\u001b[1;32m    537\u001b[0m \u001b[39mexcept\u001b[39;00m \u001b[39mKeyError\u001b[39;00m:\n",
      "File \u001b[0;32m~/AI/Projects/Traffic_signs_detection/yolov8/lib/python3.11/site-packages/box/box.py:524\u001b[0m, in \u001b[0;36mBox.__getitem__\u001b[0;34m(self, item, _ignore_default)\u001b[0m\n\u001b[1;32m    523\u001b[0m         \u001b[39mreturn\u001b[39;00m \u001b[39mself\u001b[39m\u001b[39m.\u001b[39m__get_default(item)\n\u001b[0;32m--> 524\u001b[0m     \u001b[39mraise\u001b[39;00m BoxKeyError(\u001b[39mstr\u001b[39m(err)) \u001b[39mfrom\u001b[39;00m \u001b[39m_exception_cause\u001b[39;00m(err)\n\u001b[1;32m    525\u001b[0m \u001b[39mexcept\u001b[39;00m \u001b[39mTypeError\u001b[39;00m \u001b[39mas\u001b[39;00m err:\n",
      "\u001b[0;31mBoxKeyError\u001b[0m: \"'data_ingestion'\"",
      "\nDuring handling of the above exception, another exception occurred:\n",
      "\u001b[0;31mAttributeError\u001b[0m                            Traceback (most recent call last)",
      "File \u001b[0;32m~/AI/Projects/Traffic_signs_detection/yolov8/lib/python3.11/site-packages/box/box.py:538\u001b[0m, in \u001b[0;36mBox.__getattr__\u001b[0;34m(self, item)\u001b[0m\n\u001b[1;32m    537\u001b[0m     \u001b[39mexcept\u001b[39;00m \u001b[39mKeyError\u001b[39;00m:\n\u001b[0;32m--> 538\u001b[0m         value \u001b[39m=\u001b[39m \u001b[39mobject\u001b[39;49m\u001b[39m.\u001b[39;49m\u001b[39m__getattribute__\u001b[39;49m(\u001b[39mself\u001b[39;49m, item)\n\u001b[1;32m    539\u001b[0m \u001b[39mexcept\u001b[39;00m \u001b[39mAttributeError\u001b[39;00m \u001b[39mas\u001b[39;00m err:\n",
      "\u001b[0;31mAttributeError\u001b[0m: 'ConfigBox' object has no attribute 'data_ingestion'",
      "\nThe above exception was the direct cause of the following exception:\n",
      "\u001b[0;31mBoxKeyError\u001b[0m                               Traceback (most recent call last)",
      "File \u001b[0;32m~/AI/Projects/Traffic_signs_detection/yolov8/lib/python3.11/site-packages/box/config_box.py:28\u001b[0m, in \u001b[0;36mConfigBox.__getattr__\u001b[0;34m(self, item)\u001b[0m\n\u001b[1;32m     27\u001b[0m \u001b[39mtry\u001b[39;00m:\n\u001b[0;32m---> 28\u001b[0m     \u001b[39mreturn\u001b[39;00m \u001b[39msuper\u001b[39;49m()\u001b[39m.\u001b[39;49m\u001b[39m__getattr__\u001b[39;49m(item)\n\u001b[1;32m     29\u001b[0m \u001b[39mexcept\u001b[39;00m \u001b[39mAttributeError\u001b[39;00m:\n",
      "File \u001b[0;32m~/AI/Projects/Traffic_signs_detection/yolov8/lib/python3.11/site-packages/box/box.py:552\u001b[0m, in \u001b[0;36mBox.__getattr__\u001b[0;34m(self, item)\u001b[0m\n\u001b[1;32m    551\u001b[0m         \u001b[39mreturn\u001b[39;00m \u001b[39mself\u001b[39m\u001b[39m.\u001b[39m__get_default(item, attr\u001b[39m=\u001b[39m\u001b[39mTrue\u001b[39;00m)\n\u001b[0;32m--> 552\u001b[0m     \u001b[39mraise\u001b[39;00m BoxKeyError(\u001b[39mstr\u001b[39m(err)) \u001b[39mfrom\u001b[39;00m \u001b[39m_exception_cause\u001b[39;00m(err)\n\u001b[1;32m    553\u001b[0m \u001b[39mreturn\u001b[39;00m value\n",
      "\u001b[0;31mBoxKeyError\u001b[0m: \"'ConfigBox' object has no attribute 'data_ingestion'\"",
      "\nDuring handling of the above exception, another exception occurred:\n",
      "\u001b[0;31mKeyError\u001b[0m                                  Traceback (most recent call last)",
      "File \u001b[0;32m~/AI/Projects/Traffic_signs_detection/yolov8/lib/python3.11/site-packages/box/box.py:503\u001b[0m, in \u001b[0;36mBox.__getitem__\u001b[0;34m(self, item, _ignore_default)\u001b[0m\n\u001b[1;32m    502\u001b[0m \u001b[39mtry\u001b[39;00m:\n\u001b[0;32m--> 503\u001b[0m     \u001b[39mreturn\u001b[39;00m \u001b[39msuper\u001b[39;49m()\u001b[39m.\u001b[39;49m\u001b[39m__getitem__\u001b[39;49m(item)\n\u001b[1;32m    504\u001b[0m \u001b[39mexcept\u001b[39;00m \u001b[39mKeyError\u001b[39;00m \u001b[39mas\u001b[39;00m err:\n",
      "\u001b[0;31mKeyError\u001b[0m: 'data_ingestion'",
      "\nThe above exception was the direct cause of the following exception:\n",
      "\u001b[0;31mBoxKeyError\u001b[0m                               Traceback (most recent call last)",
      "File \u001b[0;32m~/AI/Projects/Traffic_signs_detection/yolov8/lib/python3.11/site-packages/box/box.py:536\u001b[0m, in \u001b[0;36mBox.__getattr__\u001b[0;34m(self, item)\u001b[0m\n\u001b[1;32m    535\u001b[0m \u001b[39mtry\u001b[39;00m:\n\u001b[0;32m--> 536\u001b[0m     value \u001b[39m=\u001b[39m \u001b[39mself\u001b[39;49m\u001b[39m.\u001b[39;49m\u001b[39m__getitem__\u001b[39;49m(item, _ignore_default\u001b[39m=\u001b[39;49m\u001b[39mTrue\u001b[39;49;00m)\n\u001b[1;32m    537\u001b[0m \u001b[39mexcept\u001b[39;00m \u001b[39mKeyError\u001b[39;00m:\n",
      "File \u001b[0;32m~/AI/Projects/Traffic_signs_detection/yolov8/lib/python3.11/site-packages/box/box.py:524\u001b[0m, in \u001b[0;36mBox.__getitem__\u001b[0;34m(self, item, _ignore_default)\u001b[0m\n\u001b[1;32m    523\u001b[0m         \u001b[39mreturn\u001b[39;00m \u001b[39mself\u001b[39m\u001b[39m.\u001b[39m__get_default(item)\n\u001b[0;32m--> 524\u001b[0m     \u001b[39mraise\u001b[39;00m BoxKeyError(\u001b[39mstr\u001b[39m(err)) \u001b[39mfrom\u001b[39;00m \u001b[39m_exception_cause\u001b[39;00m(err)\n\u001b[1;32m    525\u001b[0m \u001b[39mexcept\u001b[39;00m \u001b[39mTypeError\u001b[39;00m \u001b[39mas\u001b[39;00m err:\n",
      "\u001b[0;31mBoxKeyError\u001b[0m: \"'data_ingestion'\"",
      "\nDuring handling of the above exception, another exception occurred:\n",
      "\u001b[0;31mAttributeError\u001b[0m                            Traceback (most recent call last)",
      "File \u001b[0;32m~/AI/Projects/Traffic_signs_detection/yolov8/lib/python3.11/site-packages/box/box.py:538\u001b[0m, in \u001b[0;36mBox.__getattr__\u001b[0;34m(self, item)\u001b[0m\n\u001b[1;32m    537\u001b[0m     \u001b[39mexcept\u001b[39;00m \u001b[39mKeyError\u001b[39;00m:\n\u001b[0;32m--> 538\u001b[0m         value \u001b[39m=\u001b[39m \u001b[39mobject\u001b[39;49m\u001b[39m.\u001b[39;49m\u001b[39m__getattribute__\u001b[39;49m(\u001b[39mself\u001b[39;49m, item)\n\u001b[1;32m    539\u001b[0m \u001b[39mexcept\u001b[39;00m \u001b[39mAttributeError\u001b[39;00m \u001b[39mas\u001b[39;00m err:\n",
      "\u001b[0;31mAttributeError\u001b[0m: 'ConfigBox' object has no attribute 'data_ingestion'",
      "\nThe above exception was the direct cause of the following exception:\n",
      "\u001b[0;31mBoxKeyError\u001b[0m                               Traceback (most recent call last)",
      "\u001b[1;32m/home/megh/AI/Projects/Traffic_signs_detection/research/01_data_ingestion.ipynb Cell 10\u001b[0m line \u001b[0;36m8\n\u001b[1;32m      <a href='vscode-notebook-cell:/home/megh/AI/Projects/Traffic_signs_detection/research/01_data_ingestion.ipynb#X11sZmlsZQ%3D%3D?line=4'>5</a>\u001b[0m     data_ingestion\u001b[39m.\u001b[39mprepare_data()\n\u001b[1;32m      <a href='vscode-notebook-cell:/home/megh/AI/Projects/Traffic_signs_detection/research/01_data_ingestion.ipynb#X11sZmlsZQ%3D%3D?line=6'>7</a>\u001b[0m \u001b[39mexcept\u001b[39;00m \u001b[39mException\u001b[39;00m \u001b[39mas\u001b[39;00m e:\n\u001b[0;32m----> <a href='vscode-notebook-cell:/home/megh/AI/Projects/Traffic_signs_detection/research/01_data_ingestion.ipynb#X11sZmlsZQ%3D%3D?line=7'>8</a>\u001b[0m     \u001b[39mraise\u001b[39;00m e\n",
      "\u001b[1;32m/home/megh/AI/Projects/Traffic_signs_detection/research/01_data_ingestion.ipynb Cell 10\u001b[0m line \u001b[0;36m3\n\u001b[1;32m      <a href='vscode-notebook-cell:/home/megh/AI/Projects/Traffic_signs_detection/research/01_data_ingestion.ipynb#X11sZmlsZQ%3D%3D?line=0'>1</a>\u001b[0m \u001b[39mtry\u001b[39;00m:\n\u001b[1;32m      <a href='vscode-notebook-cell:/home/megh/AI/Projects/Traffic_signs_detection/research/01_data_ingestion.ipynb#X11sZmlsZQ%3D%3D?line=1'>2</a>\u001b[0m     config \u001b[39m=\u001b[39m ConfigurationManager()\n\u001b[0;32m----> <a href='vscode-notebook-cell:/home/megh/AI/Projects/Traffic_signs_detection/research/01_data_ingestion.ipynb#X11sZmlsZQ%3D%3D?line=2'>3</a>\u001b[0m     data_ingestion_config\u001b[39m=\u001b[39m config\u001b[39m.\u001b[39;49mget_data_ingestion_config()\n\u001b[1;32m      <a href='vscode-notebook-cell:/home/megh/AI/Projects/Traffic_signs_detection/research/01_data_ingestion.ipynb#X11sZmlsZQ%3D%3D?line=3'>4</a>\u001b[0m     data_ingestion\u001b[39m=\u001b[39m DataIngestion(config \u001b[39m=\u001b[39m data_ingestion_config)\n\u001b[1;32m      <a href='vscode-notebook-cell:/home/megh/AI/Projects/Traffic_signs_detection/research/01_data_ingestion.ipynb#X11sZmlsZQ%3D%3D?line=4'>5</a>\u001b[0m     data_ingestion\u001b[39m.\u001b[39mprepare_data()\n",
      "\u001b[1;32m/home/megh/AI/Projects/Traffic_signs_detection/research/01_data_ingestion.ipynb Cell 10\u001b[0m line \u001b[0;36m1\n\u001b[1;32m     <a href='vscode-notebook-cell:/home/megh/AI/Projects/Traffic_signs_detection/research/01_data_ingestion.ipynb#X11sZmlsZQ%3D%3D?line=11'>12</a>\u001b[0m \u001b[39mdef\u001b[39;00m \u001b[39mget_data_ingestion_config\u001b[39m(\u001b[39mself\u001b[39m)\u001b[39m-\u001b[39m\u001b[39m>\u001b[39m DataIngestionConfig:\n\u001b[0;32m---> <a href='vscode-notebook-cell:/home/megh/AI/Projects/Traffic_signs_detection/research/01_data_ingestion.ipynb#X11sZmlsZQ%3D%3D?line=12'>13</a>\u001b[0m         config \u001b[39m=\u001b[39m \u001b[39mself\u001b[39;49m\u001b[39m.\u001b[39;49mconfig\u001b[39m.\u001b[39;49mdata_ingestion\n\u001b[1;32m     <a href='vscode-notebook-cell:/home/megh/AI/Projects/Traffic_signs_detection/research/01_data_ingestion.ipynb#X11sZmlsZQ%3D%3D?line=13'>14</a>\u001b[0m         params \u001b[39m=\u001b[39m \u001b[39mself\u001b[39m\u001b[39m.\u001b[39mparams\n\u001b[1;32m     <a href='vscode-notebook-cell:/home/megh/AI/Projects/Traffic_signs_detection/research/01_data_ingestion.ipynb#X11sZmlsZQ%3D%3D?line=15'>16</a>\u001b[0m         create_directories([config\u001b[39m.\u001b[39mroot_dir])\n",
      "File \u001b[0;32m~/AI/Projects/Traffic_signs_detection/yolov8/lib/python3.11/site-packages/box/config_box.py:30\u001b[0m, in \u001b[0;36mConfigBox.__getattr__\u001b[0;34m(self, item)\u001b[0m\n\u001b[1;32m     28\u001b[0m     \u001b[39mreturn\u001b[39;00m \u001b[39msuper\u001b[39m()\u001b[39m.\u001b[39m\u001b[39m__getattr__\u001b[39m(item)\n\u001b[1;32m     29\u001b[0m \u001b[39mexcept\u001b[39;00m \u001b[39mAttributeError\u001b[39;00m:\n\u001b[0;32m---> 30\u001b[0m     \u001b[39mreturn\u001b[39;00m \u001b[39msuper\u001b[39;49m()\u001b[39m.\u001b[39;49m\u001b[39m__getattr__\u001b[39;49m(item\u001b[39m.\u001b[39;49mlower())\n",
      "File \u001b[0;32m~/AI/Projects/Traffic_signs_detection/yolov8/lib/python3.11/site-packages/box/box.py:552\u001b[0m, in \u001b[0;36mBox.__getattr__\u001b[0;34m(self, item)\u001b[0m\n\u001b[1;32m    550\u001b[0m             \u001b[39mraise\u001b[39;00m BoxKeyError(\u001b[39mf\u001b[39m\u001b[39m\"\u001b[39m\u001b[39m{\u001b[39;00mitem\u001b[39m}\u001b[39;00m\u001b[39m: Does not exist and internal methods are never defaulted\u001b[39m\u001b[39m\"\u001b[39m)\n\u001b[1;32m    551\u001b[0m         \u001b[39mreturn\u001b[39;00m \u001b[39mself\u001b[39m\u001b[39m.\u001b[39m__get_default(item, attr\u001b[39m=\u001b[39m\u001b[39mTrue\u001b[39;00m)\n\u001b[0;32m--> 552\u001b[0m     \u001b[39mraise\u001b[39;00m BoxKeyError(\u001b[39mstr\u001b[39m(err)) \u001b[39mfrom\u001b[39;00m \u001b[39m_exception_cause\u001b[39;00m(err)\n\u001b[1;32m    553\u001b[0m \u001b[39mreturn\u001b[39;00m value\n",
      "\u001b[0;31mBoxKeyError\u001b[0m: \"'ConfigBox' object has no attribute 'data_ingestion'\""
     ]
    }
   ],
   "source": [
    "try:\n",
    "    config = ConfigurationManager()\n",
    "    data_ingestion_config= config.get_data_ingestion_config()\n",
    "    data_ingestion= DataIngestion(config = data_ingestion_config)\n",
    "    data_ingestion.prepare_data()\n",
    "\n",
    "except Exception as e:\n",
    "    raise e"
   ]
  },
  {
   "cell_type": "code",
   "execution_count": null,
   "metadata": {},
   "outputs": [],
   "source": []
  }
 ],
 "metadata": {
  "kernelspec": {
   "display_name": "yolov8",
   "language": "python",
   "name": "python3"
  },
  "language_info": {
   "codemirror_mode": {
    "name": "ipython",
    "version": 3
   },
   "file_extension": ".py",
   "mimetype": "text/x-python",
   "name": "python",
   "nbconvert_exporter": "python",
   "pygments_lexer": "ipython3",
   "version": "3.11.5"
  },
  "orig_nbformat": 4
 },
 "nbformat": 4,
 "nbformat_minor": 2
}
